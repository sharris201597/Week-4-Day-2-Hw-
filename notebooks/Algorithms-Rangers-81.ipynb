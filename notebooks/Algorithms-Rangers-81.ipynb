{
 "cells": [
  {
   "cell_type": "markdown",
   "metadata": {},
   "source": [
    "# Cl"
   ]
  },
  {
   "cell_type": "markdown",
   "metadata": {},
   "source": [
    "## Tasks Today:\n",
    " \n",
    "1) <b>In-Place Algorithms</b> <br>\n",
    " &nbsp;&nbsp;&nbsp;&nbsp; a) Syntax <br>\n",
    " &nbsp;&nbsp;&nbsp;&nbsp; a) Out of Place Algorithm <br>\n",
    " &nbsp;&nbsp;&nbsp;&nbsp; b) In-Class Exercise #1 <br>\n",
    "2) <b>Two Pointers</b> <br>\n",
    "3) <b>Linked Lists</b> <br>\n",
    "4) <b>Merge Sort</b> <br>\n",
    " &nbsp;&nbsp;&nbsp;&nbsp; a) Video on Algorithms <br>\n",
    " &nbsp;&nbsp;&nbsp;&nbsp; b) How it Works <br>\n",
    "5) <b>Exercises</b> <br>\n",
    " &nbsp;&nbsp;&nbsp;&nbsp; a) Exercise #1 - Reverse a List in Place Using an In-Place Algorithm <br>\n",
    " &nbsp;&nbsp;&nbsp;&nbsp; b) Exercise #2 - Find Distinct Words <br>\n",
    " &nbsp;&nbsp;&nbsp;&nbsp; c) Exercise #3 - Write a program to implement a Linear Search Algorithm. <br>"
   ]
  },
  {
   "cell_type": "markdown",
   "metadata": {},
   "source": [
    "## In-Place Algorithms"
   ]
  },
  {
   "cell_type": "markdown",
   "metadata": {},
   "source": [
    "#### Syntax"
   ]
  },
  {
   "cell_type": "code",
   "execution_count": 1,
   "metadata": {},
   "outputs": [
    {
     "name": "stdout",
     "output_type": "stream",
     "text": [
      "Before swap: [20, 4, 10]\n",
      "After watp: [20, 10, 4]\n"
     ]
    }
   ],
   "source": [
    "# var[i], var[i+1] = var[i+1], var[i]\n",
    "def swap(alist,x,y,z):\n",
    "    #     2         0         1          1        0         2\n",
    "    alist[x], alist[y], alist[z] = alist[z], alist[y], alist[x]\n",
    "\n",
    "    #   10      20       4            \n",
    "    return alist\n",
    "\n",
    "my_list = [20,4,10]\n",
    "\n",
    "print(f\"Before swap: {my_list}\")\n",
    "\n",
    "#swap list \n",
    "swap(my_list, 2, 0, 1)\n",
    "\n",
    "print(f\"After swap: {my_list}\")\n",
    "\n"
   ]
  },
  {
   "cell_type": "code",
   "execution_count": 2,
   "metadata": {},
   "outputs": [
    {
     "name": "stdout",
     "output_type": "stream",
     "text": [
      "[20, 4, 10]\n"
     ]
    }
   ],
   "source": [
    "def swap2(alist,x,y):\n",
    "    alist[x],alist[y] = alist[y], alist[x]\n",
    "    return alist\n",
    "\n",
    "swap2(my_list,1,2)\n",
    "print(my_list)"
   ]
  },
  {
   "cell_type": "markdown",
   "metadata": {},
   "source": [
    "#### Out of Place Algorithm"
   ]
  },
  {
   "cell_type": "code",
   "execution_count": 5,
   "metadata": {},
   "outputs": [
    {
     "name": "stdout",
     "output_type": "stream",
     "text": [
      "[10, 4, 20]\n",
      "before ['a', 'b', 'c', 'd']\n",
      "After, ['c', 'c', 'c', 'a']\n"
     ]
    }
   ],
   "source": [
    "# not swapping, creating a reverse copy\n",
    "\n",
    "my_list_copy = my_list[::-1]\n",
    "print(my_list_copy)\n",
    "\n",
    "array = ['a','b','c','d']\n",
    "new_array = ['a'] * len(array)\n",
    "print('before', array)\n",
    "\n",
    "length = len(array) - 1\n",
    "for i in range(length):\n",
    "    new_array[i] = array[length - 1]\n",
    "\n",
    "array = new_array\n",
    "print(\"After,\", array)\n",
    "\n"
   ]
  },
  {
   "cell_type": "markdown",
   "metadata": {},
   "source": [
    "#### In-Class Exercise #1 <br>\n",
    "<p>Write a function that takes in four arguments (list, index1, index2, index3), and swaps those three positions in the list passed in.</p>"
   ]
  },
  {
   "cell_type": "code",
   "execution_count": 6,
   "metadata": {},
   "outputs": [
    {
     "name": "stdout",
     "output_type": "stream",
     "text": [
      "[10, 8, 3, 4, 4, 2, 6]\n"
     ]
    }
   ],
   "source": [
    "l_1 = [10, 4, 3, 8, 4, 2, 6]\n",
    "#output = 10 , 8 , 3, 4 \n",
    "def switch(alist, index1,index2,index3):\n",
    "    alist[index1], alist[index2], alist[index3] =  alist[index3], alist[index2], alist[index1]\n",
    "    #      4             10            8       =        8              \n",
    "    return alist\n",
    "\n",
    "print(switch(l_1,1,0,3))\n",
    "\n"
   ]
  },
  {
   "cell_type": "markdown",
   "metadata": {},
   "source": [
    "## Two Pointers"
   ]
  },
  {
   "cell_type": "markdown",
   "metadata": {},
   "source": [
    "#### Syntax"
   ]
  },
  {
   "cell_type": "code",
   "execution_count": 7,
   "metadata": {},
   "outputs": [
    {
     "data": {
      "text/plain": [
       "[40, 35, 30, 25, 20, 15, 10, 5]"
      ]
     },
     "execution_count": 7,
     "metadata": {},
     "output_type": "execute_result"
    }
   ],
   "source": [
    "# alist [left], alist[right] = alist[right], alist[left]\n",
    "#use twoPointers to swap, and use a while loop (in most cases)\n",
    "\n",
    "def twoPointers(alist):\n",
    "    #create both pointers\n",
    "    left = 0\n",
    "    right = len(alist) - 1\n",
    "\n",
    "    while left <= right:\n",
    "        alist[left], alist[right] = alist[right], alist[left]\n",
    "        left += 1\n",
    "        right -=1\n",
    "    return alist\n",
    "\n",
    "my_list2 = [5,10,15,20,25,30,35,40]\n",
    "twoPointers(my_list2)"
   ]
  },
  {
   "cell_type": "markdown",
   "metadata": {},
   "source": [
    "#### Video of Algorithms <br>\n",
    "<p>Watch the video about algorithms.</p>\n",
    "\n",
    "https://www.youtube.com/watch?v=Q9HjeFD62Uk\n",
    "\n",
    "https://www.youtube.com/watch?v=Q9HjeFD62Uk\n",
    "\n",
    "https://www.youtube.com/watch?v=Q9HjeFD62Uk"
   ]
  },
  {
   "cell_type": "markdown",
   "metadata": {},
   "source": [
    "# Sorting Algorithms"
   ]
  },
  {
   "cell_type": "markdown",
   "metadata": {},
   "source": [
    "#### Bubble Sort\n",
    "\n",
    "Worst Case: O(n^2) Time - O(1) Space"
   ]
  },
  {
   "cell_type": "code",
   "execution_count": 8,
   "metadata": {},
   "outputs": [
    {
     "data": {
      "text/plain": [
       "[1, 22, 34, 44, 55, 66, 88, 100]"
      ]
     },
     "execution_count": 8,
     "metadata": {},
     "output_type": "execute_result"
    }
   ],
   "source": [
    "# Best Cast : 0(n) - Linear\n",
    "\n",
    "def swap(i,j,array):\n",
    "    array[i],array[j] = array[j],array[i]\n",
    "\n",
    "def bubbleSort(array):\n",
    "    isSorted = False # This is a flag\n",
    "\n",
    "    while  not isSorted:\n",
    "        isSorted = True\n",
    "        for num in range(len(array) - 1):\n",
    "            if array[num] > array[num+1]:\n",
    "                swap(num, num+1,array)\n",
    "                isSorted = False\n",
    "    return array\n",
    "\n",
    "bubbleSort([22,55,88,44,1,100,34,66])\n"
   ]
  },
  {
   "cell_type": "code",
   "execution_count": null,
   "metadata": {},
   "outputs": [],
   "source": []
  },
  {
   "cell_type": "markdown",
   "metadata": {},
   "source": []
  },
  {
   "cell_type": "markdown",
   "metadata": {},
   "source": [
    "##### Insertion Sort\n",
    "\n",
    "Worst Case: O(n^2) time - O(1)space"
   ]
  },
  {
   "cell_type": "code",
   "execution_count": 10,
   "metadata": {},
   "outputs": [
    {
     "data": {
      "text/plain": [
       "[1, 22, 34, 44, 55, 66, 88, 100]"
      ]
     },
     "execution_count": 10,
     "metadata": {},
     "output_type": "execute_result"
    }
   ],
   "source": [
    "def swap(i,j,array):\n",
    "    array[i],array[j] = array[j],array[i]\n",
    "\n",
    "def insertionSor(array):\n",
    "    for j in range(1,len(array)):\n",
    "        j = i\n",
    "        while j > 0 and array[j]  < array[j-1]:\n",
    "            swap(j, j-1, array)\n",
    "            j -= 1\n",
    "    return array\n",
    "insertionSor([22,55,88,44,1,100,34,66])\n",
    "\n"
   ]
  },
  {
   "cell_type": "markdown",
   "metadata": {},
   "source": [
    "## Merge Sort"
   ]
  },
  {
   "cell_type": "markdown",
   "metadata": {},
   "source": [
    "#### How it Works"
   ]
  },
  {
   "cell_type": "code",
   "execution_count": null,
   "metadata": {},
   "outputs": [],
   "source": []
  },
  {
   "cell_type": "code",
   "execution_count": 13,
   "metadata": {},
   "outputs": [
    {
     "name": "stdout",
     "output_type": "stream",
     "text": [
      "[21, 22, 9, 9, 8]\n",
      "Spliitting... [21, 22, 9, 9, 8]\n",
      "Spliitting... [21, 22]\n",
      "Spliitting... [21]\n",
      "merging... [21]\n",
      "Spliitting... [22]\n",
      "merging... [22]\n",
      "merging... [21, 22]\n",
      "Spliitting... [9, 9, 8]\n",
      "Spliitting... [9]\n",
      "merging... [9]\n",
      "Spliitting... [9, 8]\n",
      "Spliitting... [9]\n",
      "merging... [9]\n",
      "Spliitting... [8]\n",
      "merging... [8]\n",
      "merging... [8, 9]\n",
      "merging... [8, 9, 9]\n",
      "merging... [8, 9, 9, 21, 22]\n"
     ]
    },
    {
     "data": {
      "text/plain": [
       "[8, 9, 9, 21, 22]"
      ]
     },
     "execution_count": 13,
     "metadata": {},
     "output_type": "execute_result"
    }
   ],
   "source": [
    "# Step 1 : Split eberything into it's own group\n",
    "# Step 2 : From left to right, merge the groups\n",
    "# Step 3 : While mergin, place each item in correct position\n",
    "# Step 4 : Continue steps 2-3 until one group is left\n",
    "\n",
    "from random import randint\n",
    "# create a random array\n",
    "\n",
    "nums = [randint(0,25) for i in range(5)]\n",
    "print(nums)\n",
    "\n",
    "def mergeSort(alist):\n",
    "    print(\"Spliitting...\", alist)\n",
    "\n",
    "    # Step 1: Divide the array into \"equal\" parts\n",
    "    if len(alist) > 1:\n",
    "        mid = len(alist) // 2\n",
    "        leftHalf = alist[:mid]\n",
    "        rightHalf = alist[mid:]\n",
    "\n",
    "        #recursively call mergeSort on both halves\n",
    "        mergeSort(leftHalf)\n",
    "        mergeSort(rightHalf)\n",
    "\n",
    "        # index pointes for our list\n",
    "        l = 0 # left half pointer\n",
    "        r = 0 # right half pointer\n",
    "        m = 0 #main array pointer\n",
    "\n",
    "        # Step 2 : Compare right and left and merge on main array\n",
    "        while l < len(leftHalf) and r < len(rightHalf):\n",
    "            if leftHalf[l] < rightHalf[r]:\n",
    "                alist[m] = leftHalf[l]\n",
    "                l += 1\n",
    "            else:\n",
    "                alist[m] = rightHalf[r]\n",
    "                r += 1 \n",
    "            m += 1 \n",
    "        while l < len(leftHalf):\n",
    "            alist[m] = leftHalf[l]\n",
    "            l += 1\n",
    "            m += 1\n",
    "        while r < len(rightHalf):\n",
    "            alist[m] = rightHalf[r]\n",
    "            r += 1\n",
    "            m += 1\n",
    "\n",
    "    print(\"merging...\", alist)\n",
    "    return alist \n",
    "mergeSort(nums)\n",
    "\n"
   ]
  },
  {
   "cell_type": "markdown",
   "metadata": {},
   "source": [
    "# Binary Search\n",
    "\n",
    "The Binary Search algorithm works by finding the number in the middle of a given array and comparing it to the target. Given that the array is sorted\n",
    "\n",
    "* The worst case run time for this algorithm is `O(log(n))`"
   ]
  },
  {
   "cell_type": "code",
   "execution_count": 31,
   "metadata": {},
   "outputs": [
    {
     "name": "stdout",
     "output_type": "stream",
     "text": [
      "[12, 9, 12, 4, 8]\n"
     ]
    },
    {
     "data": {
      "text/plain": [
       "-1"
      ]
     },
     "execution_count": 31,
     "metadata": {},
     "output_type": "execute_result"
    }
   ],
   "source": [
    "# less == left\n",
    "# greater == right\n",
    "#the input list MUST be sorted\n",
    "\n",
    "from random import randint\n",
    "# create a random array\n",
    "\n",
    "nums2 = [randint(0,15) for i in range(5)]\n",
    "\n",
    "\n",
    "\n",
    "def binarySearchHelper(array, target, left, right):\n",
    "    while left <= right:\n",
    "        middle = (left + right) // 2\n",
    "        potentialMatch = array[middle]\n",
    "        if target == potentialMatch:\n",
    "            return f\"The index is ...{middle}\"\n",
    "        elif target < potentialMatch:\n",
    "            right = middle - 1 \n",
    "        else:\n",
    "            left = middle + 1\n",
    "    return -1\n",
    "\n",
    "def binarySearch(array, target):\n",
    "    return binarySearchHelper(array,target,0, len(array)-1)\n",
    "\n",
    "print(nums2)\n",
    "\n",
    "binarySearch(nums2, 9)\n",
    "\n",
    "\n"
   ]
  },
  {
   "cell_type": "markdown",
   "metadata": {},
   "source": [
    "# Exercises"
   ]
  },
  {
   "cell_type": "markdown",
   "metadata": {},
   "source": [
    "### Exercise #1 <br>\n",
    "<p>Reverse the list below in-place using an in-place algorithm.<br>For extra credit: Reverse the strings at the same time.</p>"
   ]
  },
  {
   "cell_type": "code",
   "execution_count": 1,
   "metadata": {},
   "outputs": [
    {
     "data": {
      "text/plain": [
       "['.', 'sentence', 'a', 'is', 'this']"
      ]
     },
     "execution_count": 1,
     "metadata": {},
     "output_type": "execute_result"
    }
   ],
   "source": [
    "words = ['this' , 'is', 'a', 'sentence', '.']\n",
    "\n",
    "def twoPointers(alist):\n",
    "    left = 0\n",
    "    right = len(alist) - 1\n",
    "\n",
    "\n",
    "    while left <= right:\n",
    "        alist[left], alist[right] = alist[right], alist[left]\n",
    "        left += 1\n",
    "        right -=1\n",
    "\n",
    "\n",
    "    return alist\n",
    "\n",
    "twoPointers(words)\n"
   ]
  },
  {
   "cell_type": "markdown",
   "metadata": {},
   "source": [
    "### Exercise #2 <br>\n",
    "<p>Create a function that counts how many distinct words are in the string below, then outputs a dictionary with the words as the key and the value as the amount of times that word appears in the string.<br>Should output:<br>{'a': 5,<br>\n",
    " 'abstract': 1,<br>\n",
    " 'an': 3,<br>\n",
    " 'array': 2, ... etc...</p>"
   ]
  },
  {
   "cell_type": "code",
   "execution_count": 4,
   "metadata": {},
   "outputs": [
    {
     "data": {
      "text/plain": [
       "{'In': 0,\n",
       " 'computing,': 0,\n",
       " 'a': 3,\n",
       " 'hash': 3,\n",
       " 'table': 1,\n",
       " 'map': 1,\n",
       " 'is': 0,\n",
       " 'data': 1,\n",
       " 'structure': 1,\n",
       " 'which': 1,\n",
       " 'implements': 0,\n",
       " 'an': 2,\n",
       " 'associative': 0,\n",
       " 'array': 1,\n",
       " 'abstract': 0,\n",
       " 'type,': 0,\n",
       " 'that': 0,\n",
       " 'can': 1,\n",
       " 'keys': 0,\n",
       " 'to': 1,\n",
       " 'values.': 0,\n",
       " 'A': 0,\n",
       " 'uses': 0,\n",
       " 'function': 0,\n",
       " 'compute': 0,\n",
       " 'index': 0,\n",
       " 'into': 0,\n",
       " 'of': 0,\n",
       " 'buckets': 0,\n",
       " 'or': 0,\n",
       " 'slots': 0,\n",
       " 'from': 0,\n",
       " 'the': 0,\n",
       " 'desired': 0,\n",
       " 'value': 0,\n",
       " 'be': 0,\n",
       " 'found': 0}"
      ]
     },
     "execution_count": 4,
     "metadata": {},
     "output_type": "execute_result"
    }
   ],
   "source": [
    "a_text = 'In computing, a hash table hash map is a data structure which implements an associative array abstract data type, a structure that can map keys to values. A hash table uses a hash function to compute an index into an array of buckets or slots from which the desired value can be found'\n",
    "def count_words(yarn):\n",
    "    results = {}\n",
    "    string_list = yarn.split()\n",
    "    for char in string_list:\n",
    "        if char not in results:\n",
    "            results[char] = 0\n",
    "        else:\n",
    "            results[char] += 1\n",
    "    return results\n",
    "\n",
    "count_words(a_text)\n",
    "\n",
    "    \n",
    "\n"
   ]
  },
  {
   "cell_type": "markdown",
   "metadata": {},
   "source": [
    "## Exercise #3\n",
    "\n",
    "Write a program to implement a Linear Search Algorithm. Also in a comment, write the Time Complexity of the following algorithm.\n",
    "\n",
    "#### Hint: Linear Searching will require searching a list for a given number. "
   ]
  },
  {
   "cell_type": "code",
   "execution_count": null,
   "metadata": {},
   "outputs": [],
   "source": [
    "def linear_search(alist, x):\n",
    "    for num in alist:\n",
    "        if num == x:\n",
    "            return x\n",
    "        else:\n",
    "            return -1 \n",
    "\n",
    "# The time complexity of this algorithm is O(n)\n"
   ]
  }
 ],
 "metadata": {
  "kernelspec": {
   "display_name": "Python 3.9.12 64-bit",
   "language": "python",
   "name": "python3"
  },
  "language_info": {
   "codemirror_mode": {
    "name": "ipython",
    "version": 3
   },
   "file_extension": ".py",
   "mimetype": "text/x-python",
   "name": "python",
   "nbconvert_exporter": "python",
   "pygments_lexer": "ipython3",
   "version": "3.9.12"
  },
  "vscode": {
   "interpreter": {
    "hash": "7ff66e84a478d056964c59e90b1e6cd554bb5dbe8562242d1d162bd0b6725b1c"
   }
  }
 },
 "nbformat": 4,
 "nbformat_minor": 2
}
